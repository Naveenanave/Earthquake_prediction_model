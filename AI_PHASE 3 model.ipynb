{
 "cells": [
  {
   "cell_type": "code",
   "execution_count": 1,
   "id": "f344863d-e828-45d6-a1c6-8426fa07a156",
   "metadata": {},
   "outputs": [],
   "source": [
    "# Import the  necessary python libraries\n",
    "import pandas as pd\n",
    "from sklearn.preprocessing import StandardScaler"
   ]
  },
  {
   "cell_type": "code",
   "execution_count": 3,
   "id": "b9180d18-7685-474b-b5d6-b02438347a60",
   "metadata": {},
   "outputs": [
    {
     "name": "stdout",
     "output_type": "stream",
     "text": [
      "         Date      Time  Latitude  Longitude        Type  Depth  Depth Error  \\\n",
      "0  01/02/1965  13:44:18    19.246    145.616  Earthquake  131.6          NaN   \n",
      "1  01/04/1965  11:29:49     1.863    127.352  Earthquake   80.0          NaN   \n",
      "2  01/05/1965  18:05:58   -20.579   -173.972  Earthquake   20.0          NaN   \n",
      "3  01/08/1965  18:49:43   -59.076    -23.557  Earthquake   15.0          NaN   \n",
      "4  01/09/1965  13:32:50    11.938    126.427  Earthquake   15.0          NaN   \n",
      "\n",
      "   Depth Seismic Stations  Magnitude Magnitude Type  ...  \\\n",
      "0                     NaN        6.0             MW  ...   \n",
      "1                     NaN        5.8             MW  ...   \n",
      "2                     NaN        6.2             MW  ...   \n",
      "3                     NaN        5.8             MW  ...   \n",
      "4                     NaN        5.8             MW  ...   \n",
      "\n",
      "   Magnitude Seismic Stations  Azimuthal Gap  Horizontal Distance  \\\n",
      "0                         NaN            NaN                  NaN   \n",
      "1                         NaN            NaN                  NaN   \n",
      "2                         NaN            NaN                  NaN   \n",
      "3                         NaN            NaN                  NaN   \n",
      "4                         NaN            NaN                  NaN   \n",
      "\n",
      "   Horizontal Error  Root Mean Square            ID  Source Location Source  \\\n",
      "0               NaN               NaN  ISCGEM860706  ISCGEM          ISCGEM   \n",
      "1               NaN               NaN  ISCGEM860737  ISCGEM          ISCGEM   \n",
      "2               NaN               NaN  ISCGEM860762  ISCGEM          ISCGEM   \n",
      "3               NaN               NaN  ISCGEM860856  ISCGEM          ISCGEM   \n",
      "4               NaN               NaN  ISCGEM860890  ISCGEM          ISCGEM   \n",
      "\n",
      "  Magnitude Source     Status  \n",
      "0           ISCGEM  Automatic  \n",
      "1           ISCGEM  Automatic  \n",
      "2           ISCGEM  Automatic  \n",
      "3           ISCGEM  Automatic  \n",
      "4           ISCGEM  Automatic  \n",
      "\n",
      "[5 rows x 21 columns]\n"
     ]
    }
   ],
   "source": [
    "#load the data set\n",
    "data=pd.read_csv('database.csv')\n",
    "print(data.head())"
   ]
  },
  {
   "cell_type": "code",
   "execution_count": 6,
   "id": "b1518406-51b4-450b-83a6-2f3ee7275c2f",
   "metadata": {},
   "outputs": [
    {
     "name": "stdout",
     "output_type": "stream",
     "text": [
      "         Date      Time  Latitude  Longitude        Type  Depth  Magnitude  \\\n",
      "0  01/02/1965  13:44:18    19.246    145.616  Earthquake  131.6        6.0   \n",
      "1  01/04/1965  11:29:49     1.863    127.352  Earthquake   80.0        5.8   \n",
      "2  01/05/1965  18:05:58   -20.579   -173.972  Earthquake   20.0        6.2   \n",
      "3  01/08/1965  18:49:43   -59.076    -23.557  Earthquake   15.0        5.8   \n",
      "4  01/09/1965  13:32:50    11.938    126.427  Earthquake   15.0        5.8   \n",
      "\n",
      "  Magnitude Type  Magnitude Error  \n",
      "0             MW              NaN  \n",
      "1             MW              NaN  \n",
      "2             MW              NaN  \n",
      "3             MW              NaN  \n",
      "4             MW              NaN  \n"
     ]
    }
   ],
   "source": [
    "data = pd.read_csv('database.csv')\n",
    "# Drop the unnecessary columns\n",
    "columns_to_drop = ['Depth Error', 'Depth Seismic Stations', 'Magnitude Seismic Stations',\n",
    "                   'Azimuthal Gap', 'Horizontal Distance', 'Horizontal Error',\n",
    "                   'Root Mean Square', 'ID', 'Source', 'Location Source', 'Magnitude Source', 'Status']\n",
    "data.drop(columns=columns_to_drop, axis=1, inplace=True)\n",
    "print(data.head())"
   ]
  },
  {
   "cell_type": "code",
   "execution_count": 7,
   "id": "0795e046-3e4d-4fc0-adf3-58135ebd573d",
   "metadata": {},
   "outputs": [
    {
     "name": "stdout",
     "output_type": "stream",
     "text": [
      "         Date      Time  Latitude  Longitude        Type     Depth  Magnitude  \\\n",
      "0  01/02/1965  13:44:18  0.583377   0.844368  Earthquake  0.495984   0.277668   \n",
      "1  01/04/1965  11:29:49  0.006109   0.698849  Earthquake  0.075272  -0.195082   \n",
      "2  01/05/1965  18:05:58 -0.739162  -1.701962  Earthquake -0.413928   0.750418   \n",
      "3  01/08/1965  18:49:43 -2.017599  -0.503524  Earthquake -0.454694  -0.195082   \n",
      "4  01/09/1965  13:32:50  0.340688   0.691479  Earthquake -0.454694  -0.195082   \n",
      "\n",
      "  Magnitude Type  Magnitude Error  \n",
      "0             MW              NaN  \n",
      "1             MW              NaN  \n",
      "2             MW              NaN  \n",
      "3             MW              NaN  \n",
      "4             MW              NaN  \n"
     ]
    }
   ],
   "source": [
    "data = pd.read_csv('database.csv')\n",
    "columns_to_drop = ['Depth Error', 'Depth Seismic Stations', 'Magnitude Seismic Stations',\n",
    "                   'Azimuthal Gap', 'Horizontal Distance', 'Horizontal Error',\n",
    "                   'Root Mean Square', 'ID', 'Source', 'Location Source', 'Magnitude Source', 'Status']\n",
    "data.drop(columns=columns_to_drop, axis=1, inplace=True)\n",
    "\n",
    "# Fill missing values in Magnitude Type and Type with the mode\n",
    "data['Magnitude Type'].fillna(data['Magnitude Type'].mode()[0], inplace=True)\n",
    "data['Type'].fillna(data['Type'].mode()[0], inplace=True)\n",
    "\n",
    "# Fill missing values in Magnitude with the mean\n",
    "data['Magnitude'].fillna(data['Magnitude'].mean(), inplace=True)\n",
    "\n",
    "# Standardize numeric columns Latitude Longitude Depth Magnitude\n",
    "scaler = StandardScaler()\n",
    "numeric_columns = ['Latitude', 'Longitude', 'Depth', 'Magnitude']\n",
    "data[numeric_columns] = scaler.fit_transform(data[numeric_columns])\n",
    "print(data.head())"
   ]
  },
  {
   "cell_type": "code",
   "execution_count": 9,
   "id": "8f713eb8-8c20-4e9a-9ef6-a9f0bfc9ab9f",
   "metadata": {},
   "outputs": [
    {
     "name": "stdout",
     "output_type": "stream",
     "text": [
      "Preprocessed Data:\n",
      "   Latitude  Longitude        Type     Depth  Magnitude Magnitude Type  \\\n",
      "0  0.583377   0.844368  Earthquake  0.495984   0.277668             MW   \n",
      "1  0.006109   0.698849  Earthquake  0.075272  -0.195082             MW   \n",
      "2 -0.739162  -1.701962  Earthquake -0.413928   0.750418             MW   \n",
      "3 -2.017599  -0.503524  Earthquake -0.454694  -0.195082             MW   \n",
      "4  0.340688   0.691479  Earthquake -0.454694  -0.195082             MW   \n",
      "\n",
      "   Magnitude Error    Year  Month  Day  Hour  \n",
      "0              NaN  1965.0    1.0  2.0  13.0  \n",
      "1              NaN  1965.0    1.0  4.0  11.0  \n",
      "2              NaN  1965.0    1.0  5.0  18.0  \n",
      "3              NaN  1965.0    1.0  8.0  18.0  \n",
      "4              NaN  1965.0    1.0  9.0  13.0  \n"
     ]
    }
   ],
   "source": [
    "data = pd.read_csv('database.csv')\n",
    "columns_to_drop = ['Depth Error', 'Depth Seismic Stations', 'Magnitude Seismic Stations',\n",
    "                   'Azimuthal Gap', 'Horizontal Distance', 'Horizontal Error',\n",
    "                   'Root Mean Square', 'ID', 'Source', 'Location Source', 'Magnitude Source', 'Status']\n",
    "data.drop(columns=columns_to_drop, axis=1, inplace=True)\n",
    "data['Magnitude Type'].fillna(data['Magnitude Type'].mode()[0], inplace=True)\n",
    "data['Type'].fillna(data['Type'].mode()[0], inplace=True)\n",
    "data['Magnitude'].fillna(data['Magnitude'].mean(), inplace=True)\n",
    "scaler = StandardScaler()\n",
    "numeric_columns = ['Latitude', 'Longitude', 'Depth', 'Magnitude']\n",
    "data[numeric_columns] = scaler.fit_transform(data[numeric_columns])\n",
    "# Define a function to parse the datetime\n",
    "def parse_datetime(date_str, time_str):\n",
    "    try:\n",
    "         return pd.to_datetime(date_str + ' ' + time_str, format='%m/%d/%Y %H:%M:%S')\n",
    "    except ValueError:\n",
    "        try:\n",
    "             return pd.to_datetime(date_str + ' ' + time_str, format='%Y-%m-%dT%H:%M:%S.%fZ')\n",
    "        except ValueError:\n",
    "         return pd.NaT\n",
    "data['Datetime'] = data.apply(lambda row: parse_datetime(row['Date'], row['Time']), axis=1)\n",
    "data['Year'] = data['Datetime'].dt.year\n",
    "data['Month'] = data['Datetime'].dt.month\n",
    "data['Day'] = data['Datetime'].dt.day\n",
    "data['Hour'] = data['Datetime'].dt.hour\n",
    "data.drop(['Date', 'Time', 'Datetime'], axis=1, inplace=True)\n",
    "# Display the preprocessed dataset\n",
    "print('Preprocessed Data:')\n",
    "print(data.head())"
   ]
  },
  {
   "cell_type": "code",
   "execution_count": null,
   "id": "f6eba78d-f06c-4626-b423-2a96a7b40455",
   "metadata": {},
   "outputs": [],
   "source": []
  }
 ],
 "metadata": {
  "kernelspec": {
   "display_name": "Python 3 (ipykernel)",
   "language": "python",
   "name": "python3"
  },
  "language_info": {
   "codemirror_mode": {
    "name": "ipython",
    "version": 3
   },
   "file_extension": ".py",
   "mimetype": "text/x-python",
   "name": "python",
   "nbconvert_exporter": "python",
   "pygments_lexer": "ipython3",
   "version": "3.11.5"
  }
 },
 "nbformat": 4,
 "nbformat_minor": 5
}
